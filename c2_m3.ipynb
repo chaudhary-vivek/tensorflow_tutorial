{
 "cells": [
  {
   "cell_type": "code",
   "execution_count": 1,
   "id": "e41bda3c",
   "metadata": {},
   "outputs": [],
   "source": [
    "import tensorflow as tf"
   ]
  },
  {
   "cell_type": "markdown",
   "id": "4aa3a002",
   "metadata": {},
   "source": [
    " - Open file\n",
    " - Fetch data entry\n",
    " - Use for traininng\n",
    "   - Build input pipeline with simple resuable pieces\n",
    "   - Build pipeline for multiple data type\n",
    "   - Handle large amounts of data, perform complex transformations"
   ]
  },
  {
   "cell_type": "markdown",
   "id": "bd86727b",
   "metadata": {},
   "source": [
    "- tf.data.dataset represents a sequence of elements\n",
    "- each element can be one or more components\n",
    "- each element can be an image and a label\n",
    "- there are two ways of creating a dataset\n",
    "  - datasource constructs a datasets from memory or a file\n",
    "  - data transformation constructs a dataset from one or more tf.dataset\n",
    "- large datasets can be sharded into multiple files that can be loaded progressively\n",
    "- we train by batch so we can load them one by one\n"
   ]
  },
  {
   "cell_type": "markdown",
   "id": "ab246bb5",
   "metadata": {},
   "source": [
    "- dataset can be created from many file formats\n",
    "  - TextLineDataset\n",
    "  - TFRecordDataset\n",
    "  - FixedLengthRecordDataset "
   ]
  },
  {
   "cell_type": "code",
   "execution_count": null,
   "id": "a181564b",
   "metadata": {},
   "outputs": [
    {
     "data": {
      "text/plain": [
       "<_TensorDataset element_spec=TensorSpec(shape=(2, 3), dtype=tf.int32, name=None)>"
      ]
     },
     "execution_count": 4,
     "metadata": {},
     "output_type": "execute_result"
    }
   ],
   "source": [
    "t = tf.constant([[1, 2, 3], [4, 5, 6]])\n",
    "ds = tf.data.Dataset.from_tensors(t)\n",
    "# returns data as a single element\n",
    "\n",
    "ds"
   ]
  },
  {
   "cell_type": "code",
   "execution_count": null,
   "id": "7fccab2a",
   "metadata": {},
   "outputs": [
    {
     "data": {
      "text/plain": [
       "<_TensorSliceDataset element_spec=TensorSpec(shape=(3,), dtype=tf.int32, name=None)>"
      ]
     },
     "execution_count": 5,
     "metadata": {},
     "output_type": "execute_result"
    }
   ],
   "source": [
    "t = tf.constant([[1, 2, 3], [4, 5, 6]])\n",
    "ds = tf.data.Dataset.from_tensor_slices(t)\n",
    "# returns data as a separate element for each row\n",
    "\n",
    "ds"
   ]
  },
  {
   "cell_type": "markdown",
   "id": "7ea966ea",
   "metadata": {},
   "source": [
    "<img src=\"/Users/vivekchaudhary/Documents/tensorflow_tutorial/Screenshot 2025-10-03 at 7.06.10 PM.png\">\n",
    "\n",
    "- this is how we load data from a csv file\n",
    "- we read the csv file line by line\n",
    "- use mapping to get a dictionary of features, and labels\n",
    "- shuffle : randomizes order by sampling randomly from a buffer of buffer_size\n",
    "- repeat : repeats the data for each epoch\n",
    "- batch : instead of feeding model 1 rows, n = batch size rows are fed in parallel\n",
    "- *we only shuffle training data*\n",
    "\n",
    "\n"
   ]
  }
 ],
 "metadata": {
  "kernelspec": {
   "display_name": "base",
   "language": "python",
   "name": "python3"
  },
  "language_info": {
   "codemirror_mode": {
    "name": "ipython",
    "version": 3
   },
   "file_extension": ".py",
   "mimetype": "text/x-python",
   "name": "python",
   "nbconvert_exporter": "python",
   "pygments_lexer": "ipython3",
   "version": "3.11.5"
  }
 },
 "nbformat": 4,
 "nbformat_minor": 5
}

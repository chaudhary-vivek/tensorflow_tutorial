{
 "cells": [
  {
   "cell_type": "code",
   "execution_count": 1,
   "id": "6fc97b48",
   "metadata": {},
   "outputs": [],
   "source": [
    "import tensorflow as tf"
   ]
  },
  {
   "cell_type": "code",
   "execution_count": 5,
   "id": "90fc7c98",
   "metadata": {},
   "outputs": [
    {
     "name": "stdout",
     "output_type": "stream",
     "text": [
      "tf.Tensor(3, shape=(), dtype=int32)\n",
      "<class 'tensorflow.python.framework.ops.EagerTensor'>\n",
      "()\n"
     ]
    }
   ],
   "source": [
    "x = tf.constant(3)\n",
    "print(x)\n",
    "print(type(x))\n",
    "print(x.shape)"
   ]
  },
  {
   "cell_type": "code",
   "execution_count": 6,
   "id": "08c6907f",
   "metadata": {},
   "outputs": [
    {
     "name": "stdout",
     "output_type": "stream",
     "text": [
      "tf.Tensor([3 5 7], shape=(3,), dtype=int32)\n",
      "<class 'tensorflow.python.framework.ops.EagerTensor'>\n",
      "(3,)\n"
     ]
    }
   ],
   "source": [
    "x = tf.constant([3,5,7])\n",
    "print(x)\n",
    "print(type(x))\n",
    "print(x.shape)"
   ]
  },
  {
   "cell_type": "code",
   "execution_count": 7,
   "id": "a57c8002",
   "metadata": {},
   "outputs": [
    {
     "name": "stdout",
     "output_type": "stream",
     "text": [
      "tf.Tensor(\n",
      "[[3 5 7]\n",
      " [4 6 8]], shape=(2, 3), dtype=int32)\n",
      "<class 'tensorflow.python.framework.ops.EagerTensor'>\n",
      "(2, 3)\n"
     ]
    }
   ],
   "source": [
    "x = tf.constant([[3,5,7],[4,6,8]])\n",
    "print(x)\n",
    "print(type(x))\n",
    "print(x.shape)"
   ]
  },
  {
   "cell_type": "code",
   "execution_count": 8,
   "id": "dedf7262",
   "metadata": {},
   "outputs": [
    {
     "name": "stdout",
     "output_type": "stream",
     "text": [
      "tf.Tensor(\n",
      "[[[3 5 7]\n",
      "  [4 6 8]]\n",
      "\n",
      " [[3 5 7]\n",
      "  [4 6 8]]], shape=(2, 2, 3), dtype=int32)\n",
      "<class 'tensorflow.python.framework.ops.EagerTensor'>\n",
      "(2, 2, 3)\n"
     ]
    }
   ],
   "source": [
    "x = tf.constant([[[3,5,7],[4,6,8]], [[3,5,7],[4,6,8]]])\n",
    "print(x)\n",
    "print(type(x))\n",
    "print(x.shape)"
   ]
  },
  {
   "cell_type": "markdown",
   "id": "39bd62fc",
   "metadata": {},
   "source": [
    "Stack"
   ]
  },
  {
   "cell_type": "code",
   "execution_count": 14,
   "id": "5a92571d",
   "metadata": {},
   "outputs": [
    {
     "name": "stdout",
     "output_type": "stream",
     "text": [
      "(2, 3)\n",
      "(4, 2, 3)\n",
      "(2, 4, 2, 3)\n"
     ]
    }
   ],
   "source": [
    "x1 = tf.constant([3,5,7])\n",
    "x2 = tf.stack([x1, x1])\n",
    "print(x2.shape)\n",
    "x3 = tf.stack([x2, x2, x2, x2])\n",
    "print(x3.shape)\n",
    "x4 = tf.stack([x3, x3])\n",
    "print(x4.shape)"
   ]
  },
  {
   "cell_type": "markdown",
   "id": "82c8728c",
   "metadata": {},
   "source": [
    " - tf.constant() creates constants\n",
    " - tf.Variable() creates variables"
   ]
  },
  {
   "cell_type": "markdown",
   "id": "a17a62c7",
   "metadata": {},
   "source": [
    "Reshape"
   ]
  },
  {
   "cell_type": "code",
   "execution_count": 17,
   "id": "9cfbe7fc",
   "metadata": {},
   "outputs": [
    {
     "name": "stdout",
     "output_type": "stream",
     "text": [
      "tf.Tensor([2 5], shape=(2,), dtype=int32)\n",
      "tf.Tensor(\n",
      "[[1 2 3]\n",
      " [4 5 6]], shape=(2, 3), dtype=int32)\n",
      "tf.Tensor(\n",
      "[[1 2]\n",
      " [3 4]\n",
      " [5 6]], shape=(3, 2), dtype=int32)\n"
     ]
    }
   ],
   "source": [
    "x = tf.constant([[1, 2, 3], [4, 5, 6]])\n",
    "\n",
    "print(x[:,1])\n",
    "\n",
    "y = tf.reshape(x, [3,2])\n",
    "print(x)\n",
    "print(y)"
   ]
  },
  {
   "cell_type": "code",
   "execution_count": 20,
   "id": "aab0baf3",
   "metadata": {},
   "outputs": [
    {
     "name": "stdout",
     "output_type": "stream",
     "text": [
      "<tf.Variable 'my_variable:0' shape=() dtype=float32, numpy=2.0>\n",
      "<tf.Variable 'my_variable:0' shape=() dtype=float32, numpy=3.0>\n",
      "<tf.Variable 'my_variable:0' shape=() dtype=float32, numpy=5.0>\n",
      "<tf.Variable 'my_variable:0' shape=() dtype=float32, numpy=4.0>\n"
     ]
    }
   ],
   "source": [
    "x = tf.Variable(2.0, dtype = tf.float32, name = 'my_variable')\n",
    "print(x)\n",
    "x.assign(3.0)\n",
    "print(x)\n",
    "x.assign_add(2.0)\n",
    "print(x)\n",
    "x.assign_sub(1.0)\n",
    "print(x)"
   ]
  },
  {
   "cell_type": "markdown",
   "id": "dcaf7712",
   "metadata": {},
   "source": [
    "- Tensorflow can calculate the derivative of any function with respect to any parameter\n",
    "- The computations are recorded in GradientTape"
   ]
  },
  {
   "cell_type": "code",
   "execution_count": 24,
   "id": "40f5c815",
   "metadata": {},
   "outputs": [
    {
     "data": {
      "text/plain": [
       "tensorflow.python.framework.tensor.Tensor"
      ]
     },
     "execution_count": 24,
     "metadata": {},
     "output_type": "execute_result"
    }
   ],
   "source": [
    "tf.Tensor"
   ]
  }
 ],
 "metadata": {
  "kernelspec": {
   "display_name": "base",
   "language": "python",
   "name": "python3"
  },
  "language_info": {
   "codemirror_mode": {
    "name": "ipython",
    "version": 3
   },
   "file_extension": ".py",
   "mimetype": "text/x-python",
   "name": "python",
   "nbconvert_exporter": "python",
   "pygments_lexer": "ipython3",
   "version": "3.11.5"
  }
 },
 "nbformat": 4,
 "nbformat_minor": 5
}
